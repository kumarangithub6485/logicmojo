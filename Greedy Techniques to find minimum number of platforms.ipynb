{
 "cells": [
  {
   "cell_type": "code",
   "execution_count": 2,
   "metadata": {},
   "outputs": [
    {
     "name": "stdout",
     "output_type": "stream",
     "text": [
      "Minimum Number Platforms =  4\n"
     ]
    }
   ],
   "source": [
    "def minimumNumberPlatform(arrival, departure, n): \n",
    "    # Sort arrival and departure arrays\n",
    "    arrival.sort() \n",
    "    departure.sort() \n",
    "    # plat_needed indicates number of platforms needed at a time \n",
    "    plat_needed = 1\n",
    "    minplatform = 1\n",
    "    i = 1\n",
    "    j = 0\n",
    "   \n",
    "    while (i < n and j < n): \n",
    "      # If next event in sorted order is arrival, increment count of platforms needed\n",
    "        if (arrival[i] <= departure[j]): \n",
    "          \n",
    "            plat_needed+= 1\n",
    "            i+= 1\n",
    "            if (plat_needed > minplatform):  \n",
    "               minplatform = plat_needed\n",
    "        # Else decrement count of platforms needed \n",
    "        elif (arrival[i] > departure[j]): \n",
    "          \n",
    "            plat_needed-= 1\n",
    "            j+= 1\n",
    "  \n",
    "    return minplatform \n",
    "  \n",
    "arrival = [100, 140, 150, 200, 215, 400] \n",
    "departure = [110, 300, 220, 230, 315, 600] \n",
    "n = len(arrival) \n",
    "  \n",
    "print(\"Minimum Number Platforms = \", \n",
    "        minimumNumberPlatform(arrival, departure, n))"
   ]
  },
  {
   "cell_type": "code",
   "execution_count": 3,
   "metadata": {},
   "outputs": [],
   "source": [
    "arrival = [100, 140, 150, 200, 215, 400] \n",
    "departure = [110, 300, 220, 230, 315, 600] \n",
    "n = len(arrival)"
   ]
  },
  {
   "cell_type": "code",
   "execution_count": 4,
   "metadata": {},
   "outputs": [
    {
     "name": "stdout",
     "output_type": "stream",
     "text": [
      "Minimum Number Platforms =  4\n"
     ]
    }
   ],
   "source": [
    "print(\"Minimum Number Platforms = \", \n",
    "        minimumNumberPlatform(arrival, departure, n))  "
   ]
  }
 ],
 "metadata": {
  "kernelspec": {
   "display_name": "Python 3",
   "language": "python",
   "name": "python3"
  },
  "language_info": {
   "codemirror_mode": {
    "name": "ipython",
    "version": 3
   },
   "file_extension": ".py",
   "mimetype": "text/x-python",
   "name": "python",
   "nbconvert_exporter": "python",
   "pygments_lexer": "ipython3",
   "version": "3.8.5"
  }
 },
 "nbformat": 4,
 "nbformat_minor": 4
}
