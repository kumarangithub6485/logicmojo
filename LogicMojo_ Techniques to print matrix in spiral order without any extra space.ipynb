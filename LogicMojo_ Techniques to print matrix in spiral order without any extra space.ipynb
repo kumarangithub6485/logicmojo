
def spiralPrint(m, n, matrix) : 
    k = 0; l = 0

''' k - starting row index 
        m - ending row index 
        l - starting column index 
        n - ending column index 
        i - iterator '''
  # checking k or l lies outside the matrix
    while (k < m and l < n) : 
        # Print First Row
        for i in range(l, n) : 
            print(matrix[k][i]) 
              
        k += 1
        # Print Last Column
        for i in range(k, m) : 
            print(matrix[i][n - 1]) 
              
        n -= 1
        #Print the last row
        if ( k < m) : 
              
            for i in range(n - 1, (l - 1), -1) : 
                print(matrix[m - 1][i]) 
              
            m -= 1
         # Print the first column 
        if (l < n) : 
            for i in range(m - 1, k - 1, -1) : 
                print(matrix[i][l]) 
              
            l += 1
  
matrix = [ [1, 2, 3, 4], 
      [5,6,7,8], 
      [9, 10, 11, 12],
      [13, 14, 15, 16] ] 
        
R = 4; C = 4
spiralPrint(R, C, matrix)
